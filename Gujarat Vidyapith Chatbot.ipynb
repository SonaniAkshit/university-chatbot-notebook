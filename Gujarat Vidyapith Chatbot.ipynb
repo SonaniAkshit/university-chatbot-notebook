{
 "cells": [
  {
   "cell_type": "code",
   "execution_count": 26,
   "id": "4ad3c9c4-e88f-4057-a17f-d63385bd6a9e",
   "metadata": {},
   "outputs": [
    {
     "name": "stderr",
     "output_type": "stream",
     "text": [
      "[nltk_data] Downloading package punkt to\n",
      "[nltk_data]     C:\\Users\\Admin\\AppData\\Roaming\\nltk_data...\n",
      "[nltk_data]   Package punkt is already up-to-date!\n"
     ]
    }
   ],
   "source": [
    "import numpy as np\n",
    "import random\n",
    "import json\n",
    "import torch\n",
    "import torch.nn as nn\n",
    "import torch.nn.functional as F\n",
    "from torch.utils.data import Dataset, DataLoader\n",
    "import nltk\n",
    "\n",
    "nltk.download(\"punkt\")\n",
    "from nltk.stem.porter import PorterStemmer"
   ]
  },
  {
   "cell_type": "code",
   "execution_count": 27,
   "id": "31e09a90-54b4-4320-9ac4-556b01175983",
   "metadata": {},
   "outputs": [],
   "source": [
    "# 2. NLTK Utilities\n",
    "\n",
    "stemmer = PorterStemmer()\n",
    "\n",
    "def tokenize(sentence):\n",
    "    return nltk.word_tokenize(sentence)\n",
    "\n",
    "def stem(word):\n",
    "    return stemmer.stem(word.lower())\n",
    "\n",
    "def bag_of_words(tokenized_sentence, words):\n",
    "    sentence_words = [stem(w) for w in tokenized_sentence]\n",
    "    bag = np.zeros(len(words), dtype=np.float32)\n",
    "    for idx, w in enumerate(words):\n",
    "        if w in sentence_words: \n",
    "            bag[idx] = 1\n",
    "    return bag\n"
   ]
  },
  {
   "cell_type": "code",
   "execution_count": 29,
   "id": "8283bc8b-381c-4b05-adcc-9bd7861ece10",
   "metadata": {},
   "outputs": [],
   "source": [
    "# 3. Model Definition\n",
    "\n",
    "class NeuralNet(nn.Module):\n",
    "    def __init__(self, input_size, hidden_size, num_classes):\n",
    "        super(NeuralNet, self).__init__()\n",
    "        self.l1 = nn.Linear(input_size, hidden_size)\n",
    "        self.l2 = nn.Linear(hidden_size, hidden_size)\n",
    "        self.l3 = nn.Linear(hidden_size, num_classes)\n",
    "\n",
    "    def forward(self, x):\n",
    "        out = F.relu(self.l1(x))\n",
    "        out = F.relu(self.l2(out))\n",
    "        out = self.l3(out)\n",
    "        return out\n"
   ]
  },
  {
   "cell_type": "code",
   "execution_count": 33,
   "id": "901de84a-c27d-4ec0-8828-1a13b7149ab5",
   "metadata": {},
   "outputs": [
    {
     "name": "stdout",
     "output_type": "stream",
     "text": [
      "38 patterns [(['Hi'], 'greeting'), (['Hello'], 'greeting'), (['Hey'], 'greeting'), (['Good', 'morning'], 'greeting'), (['Good', 'evening'], 'greeting'), (['Is', 'anyone', 'there', '?'], 'greeting'), (['How', 'can', 'I', 'apply', 'for', 'admission', '?'], 'admission_process'), (['What', 'is', 'the', 'admission', 'process', '?'], 'admission_process'), (['How', 'do', 'I', 'get', 'admission', 'in', 'Gujarat', 'Vidyapith', '?'], 'admission_process'), (['Tell', 'me', 'about', 'the', 'admission', 'procedure'], 'admission_process'), (['Which', 'courses', 'are', 'available', '?'], 'courses'), (['What', 'programs', 'do', 'you', 'offer', '?'], 'courses'), (['List', 'of', 'courses'], 'courses'), (['Tell', 'me', 'about', 'the', 'courses', 'in', 'Gujarat', 'Vidyapith'], 'courses'), (['What', 'is', 'the', 'eligibility', 'for', 'admission', '?'], 'eligibility'), (['Who', 'can', 'apply', '?'], 'eligibility'), (['Admission', 'requirements'], 'eligibility'), (['Minimum', 'qualification', 'needed'], 'eligibility'), (['Is', 'there', 'an', 'entrance', 'exam', '?'], 'entrance_exam'), (['Do', 'I', 'have', 'to', 'take', 'a', 'test', '?'], 'entrance_exam'), (['Admission', 'test', 'details'], 'entrance_exam'), (['Is', 'interview', 'required', '?'], 'entrance_exam'), (['What', 'is', 'the', 'fee', 'structure', '?'], 'fees'), (['How', 'much', 'is', 'the', 'admission', 'fee', '?'], 'fees'), (['Tell', 'me', 'about', 'tuition', 'fees'], 'fees'), (['Cost', 'of', 'studying'], 'fees'), (['Are', 'there', 'any', 'scholarships', '?'], 'scholarship'), (['Do', 'you', 'provide', 'financial', 'aid', '?'], 'scholarship'), (['Scholarship', 'options'], 'scholarship'), (['Can', 'I', 'get', 'a', 'fee', 'waiver', '?'], 'scholarship'), (['How', 'can', 'I', 'contact', 'the', 'admission', 'office', '?'], 'contact'), (['What', 'is', 'the', 'helpline', 'number', '?'], 'contact'), (['Email', 'for', 'admission', 'enquiry'], 'contact'), (['Where', 'is', 'Gujarat', 'Vidyapith', 'located', '?'], 'contact'), (['Bye'], 'goodbye'), (['Goodbye'], 'goodbye'), (['See', 'you'], 'goodbye'), (['Talk', 'to', 'you', 'later'], 'goodbye')]\n",
      "9 tags: ['admission_process', 'contact', 'courses', 'eligibility', 'entrance_exam', 'fees', 'goodbye', 'greeting', 'scholarship']\n",
      "78 unique stemmed words ['a', 'about', 'admiss', 'aid', 'an', 'ani', 'anyon', 'appli', 'are', 'avail', 'bye', 'can', 'contact', 'cost', 'cours', 'detail', 'do', 'elig', 'email', 'enquiri', 'entranc', 'even', 'exam', 'fee', 'financi', 'for', 'get', 'good', 'goodby', 'gujarat', 'have', 'hello', 'helplin', 'hey', 'hi', 'how', 'i', 'in', 'interview', 'is', 'later', 'list', 'locat', 'me', 'minimum', 'morn', 'much', 'need', 'number', 'of', 'offer', 'offic', 'option', 'procedur', 'process', 'program', 'provid', 'qualif', 'requir', 'scholarship', 'see', 'structur', 'studi', 'take', 'talk', 'tell', 'test', 'the', 'there', 'to', 'tuition', 'vidyapith', 'waiver', 'what', 'where', 'which', 'who', 'you']\n"
     ]
    }
   ],
   "source": [
    "# 4. Load Intents Data\n",
    "\n",
    "with open(\"intents.json\", \"r\") as f:\n",
    "    intents = json.load(f)\n",
    "\n",
    "all_words = []\n",
    "tags = []\n",
    "xy = []\n",
    "\n",
    "for intent in intents[\"intents\"]:\n",
    "    tag = intent[\"tag\"]\n",
    "    tags.append(tag)\n",
    "    for pattern in intent[\"patterns\"]:\n",
    "        w = tokenize(pattern)\n",
    "        all_words.extend(w)\n",
    "        xy.append((w, tag))\n",
    "\n",
    "ignore_words = [\"?\", \".\", \"!\"]\n",
    "all_words = [stem(w) for w in all_words if w not in ignore_words]\n",
    "all_words = sorted(set(all_words))\n",
    "tags = sorted(set(tags))\n",
    "\n",
    "print(len(xy), \"patterns\", xy)\n",
    "print(len(tags), \"tags:\", tags)\n",
    "print(len(all_words), \"unique stemmed words\", all_words)\n"
   ]
  },
  {
   "cell_type": "code",
   "execution_count": 34,
   "id": "6f95061a-4e53-428f-914a-196a47fca5af",
   "metadata": {},
   "outputs": [
    {
     "name": "stdout",
     "output_type": "stream",
     "text": [
      "Input size: 78, Output size: 9\n"
     ]
    }
   ],
   "source": [
    "# 5. Prepare Training Data\n",
    "\n",
    "X_train = []\n",
    "y_train = []\n",
    "for (pattern_sentence, tag) in xy:\n",
    "    bag = bag_of_words(pattern_sentence, all_words)\n",
    "    X_train.append(bag)\n",
    "    label = tags.index(tag)\n",
    "    y_train.append(label)\n",
    "\n",
    "X_train = np.array(X_train)\n",
    "y_train = np.array(y_train)\n",
    "\n",
    "input_size = len(X_train[0])\n",
    "hidden_size = 8\n",
    "output_size = len(tags)\n",
    "print(f\"Input size: {input_size}, Output size: {output_size}\")\n",
    "\n",
    "class ChatDataset(Dataset):\n",
    "    def __init__(self):\n",
    "        self.n_samples = len(X_train)\n",
    "        self.x_data = X_train\n",
    "        self.y_data = y_train\n",
    "\n",
    "    def __getitem__(self, index):\n",
    "        return self.x_data[index], self.y_data[index]\n",
    "\n",
    "    def __len__(self):\n",
    "        return self.n_samples\n"
   ]
  },
  {
   "cell_type": "code",
   "execution_count": 35,
   "id": "661e6fb2-19b0-4732-b56c-8a8c4140eda1",
   "metadata": {},
   "outputs": [
    {
     "name": "stdout",
     "output_type": "stream",
     "text": [
      "Epoch [100/500], Loss: 0.9855\n",
      "Epoch [200/500], Loss: 0.1024\n",
      "Epoch [300/500], Loss: 0.0164\n",
      "Epoch [400/500], Loss: 0.0070\n",
      "Epoch [500/500], Loss: 0.0039\n",
      "Final loss: 0.0039\n",
      "Training complete. File saved to data.pth\n"
     ]
    }
   ],
   "source": [
    "# 6. Training\n",
    "\n",
    "batch_size = 8\n",
    "learning_rate = 0.001\n",
    "num_epochs = 500\n",
    "\n",
    "dataset = ChatDataset()\n",
    "train_loader = DataLoader(dataset=dataset, batch_size=batch_size, shuffle=True, num_workers=0)\n",
    "\n",
    "device = torch.device(\"cuda\" if torch.cuda.is_available() else \"cpu\")\n",
    "model = NeuralNet(input_size, hidden_size, output_size).to(device)\n",
    "\n",
    "criterion = nn.CrossEntropyLoss()\n",
    "optimizer = torch.optim.Adam(model.parameters(), lr=learning_rate)\n",
    "\n",
    "for epoch in range(num_epochs):\n",
    "    for (words, labels) in train_loader:\n",
    "        words = words.to(device)\n",
    "        labels = labels.to(dtype=torch.long).to(device)\n",
    "\n",
    "        outputs = model(words)\n",
    "        loss = criterion(outputs, labels)\n",
    "\n",
    "        optimizer.zero_grad()\n",
    "        loss.backward()\n",
    "        optimizer.step()\n",
    "\n",
    "    if (epoch+1) % 100 == 0:\n",
    "        print(f\"Epoch [{epoch+1}/{num_epochs}], Loss: {loss.item():.4f}\")\n",
    "\n",
    "print(f\"Final loss: {loss.item():.4f}\")\n",
    "\n",
    "# Save model state in memory\n",
    "data = {\n",
    "    \"model_state\": model.state_dict(),\n",
    "    \"input_size\": input_size,\n",
    "    \"hidden_size\": hidden_size,\n",
    "    \"output_size\": output_size,\n",
    "    \"all_words\": all_words,\n",
    "    \"tags\": tags\n",
    "}\n",
    "\n",
    "FILE = \"data.pth\"\n",
    "torch.save(data, FILE)\n",
    "print(f\"Training complete. File saved to {FILE}\")\n"
   ]
  },
  {
   "cell_type": "code",
   "execution_count": 36,
   "id": "d5f3bdb2-8e7f-4e1d-98d7-9bed1b203c7d",
   "metadata": {},
   "outputs": [],
   "source": [
    "# 7. Chat Function\n",
    "\n",
    "data = torch.load(FILE)\n",
    "input_size = data[\"input_size\"]\n",
    "hidden_size = data[\"hidden_size\"]\n",
    "output_size = data[\"output_size\"]\n",
    "all_words = data[\"all_words\"]\n",
    "tags = data[\"tags\"]\n",
    "model_state = data[\"model_state\"]\n",
    "\n",
    "model = NeuralNet(input_size, hidden_size, output_size).to(device)\n",
    "model.load_state_dict(model_state)\n",
    "model.eval()\n",
    "\n",
    "bot_name = \"UniBuddy\"\n",
    "\n",
    "def chat_with_bot(sentence):\n",
    "    sentence = tokenize(sentence)\n",
    "    X = bag_of_words(sentence, all_words)\n",
    "    X = X.reshape(1, X.shape[0])\n",
    "    X = torch.from_numpy(X).to(device)\n",
    "\n",
    "    output = model(X)\n",
    "    _, predicted = torch.max(output, dim=1)\n",
    "\n",
    "    tag = tags[predicted.item()]\n",
    "    probs = torch.softmax(output, dim=1)\n",
    "    prob = probs[0][predicted.item()]\n",
    "\n",
    "    if prob.item() > 0.75:\n",
    "        for intent in intents[\"intents\"]:\n",
    "            if tag == intent[\"tag\"]:\n",
    "                return random.choice(intent[\"responses\"])\n",
    "    else:\n",
    "        return \"I do not understand...\"\n"
   ]
  },
  {
   "cell_type": "code",
   "execution_count": null,
   "id": "3f21a6a7-b3ed-44f9-9dfa-218aa34e27e8",
   "metadata": {},
   "outputs": [],
   "source": []
  }
 ],
 "metadata": {
  "kernelspec": {
   "display_name": "Python 3 (ipykernel)",
   "language": "python",
   "name": "python3"
  },
  "language_info": {
   "codemirror_mode": {
    "name": "ipython",
    "version": 3
   },
   "file_extension": ".py",
   "mimetype": "text/x-python",
   "name": "python",
   "nbconvert_exporter": "python",
   "pygments_lexer": "ipython3",
   "version": "3.12.5"
  }
 },
 "nbformat": 4,
 "nbformat_minor": 5
}
